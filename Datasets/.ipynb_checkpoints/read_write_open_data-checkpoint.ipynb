{
 "cells": [
  {
   "cell_type": "code",
   "execution_count": null,
   "metadata": {
    "collapsed": true
   },
   "outputs": [],
   "source": [
    "'''# not latlong\n",
    "golf = pd.read_csv(\"Golf_Courses.csv\")\n",
    "golf.head()\n",
    "\n",
    "#no latlong\n",
    "#not needed\n",
    "cons_grant = pd.read_csv(\"Hamilton_Heritage_Conservation_Grant_Program_Recipients.csv\")\n",
    "cons_grant.head()\n",
    "\n",
    "#no latlong\n",
    "#not needed\n",
    "prop_grant = pd.read_csv(\"Hamilton_Heritage_Property_Grant_Program_Recipients.csv\")\n",
    "prop_grant.head()\n",
    "\n",
    "#no location\n",
    "heritage_props = pd.read_csv(\"Heritage_Properties.csv\")\n",
    "heritage_props.head()\n",
    "\n",
    "#no loc\n",
    "licensed_public_halls = pd.read_csv(\"Licensed_Public_Halls.csv\")\n",
    "licensed_public_halls.head()\n",
    "\n",
    "#no loc\n",
    "live_music = pd.read_csv(\"Live_Music_Venues.csv\")\n",
    "live_music.head()\n",
    "\n",
    "#latlong not in columns\n",
    "urban_design = pd.read_csv(\"Urban_Design_Architecture_Awards_Recipients.csv\")\n",
    "urban_design.head()\n",
    "print(500)'''"
   ]
  },
  {
   "cell_type": "code",
   "execution_count": null,
   "metadata": {
    "collapsed": true
   },
   "outputs": [],
   "source": [
    "##print(\"jhex\")\n",
    "#time.sleep(5)"
   ]
  },
  {
   "cell_type": "code",
   "execution_count": null,
   "metadata": {
    "collapsed": true
   },
   "outputs": [],
   "source": [
    "a = 5\n",
    "b = 4\n",
    "#[a, b, 2] = [3, 5, 2]"
   ]
  },
  {
   "cell_type": "code",
   "execution_count": null,
   "metadata": {
    "collapsed": true
   },
   "outputs": [],
   "source": [
    "import pandas as pd#\n",
    "import numpy as np\n",
    "import matplotlib.pyplot as plt\n",
    "#import seaborn as sns\n",
    "#sns "
   ]
  },
  {
   "cell_type": "code",
   "execution_count": null,
   "metadata": {
    "collapsed": true
   },
   "outputs": [],
   "source": [
    "df = pd.read_csv(\"School_Crossing_Guard_Locations.csv\")\n",
    "df.columns"
   ]
  },
  {
   "cell_type": "code",
   "execution_count": null,
   "metadata": {
    "collapsed": true
   },
   "outputs": [],
   "source": [
    "a = df[:]"
   ]
  },
  {
   "cell_type": "code",
   "execution_count": null,
   "metadata": {
    "collapsed": true
   },
   "outputs": [],
   "source": [
    "a['LATITUDE'][4]\n"
   ]
  },
  {
   "cell_type": "code",
   "execution_count": null,
   "metadata": {
    "collapsed": true
   },
   "outputs": [],
   "source": [
    "#everything previous was unnecessary this is the code used for parsing csv files\n",
    "\n",
    "import requests     #-|\n",
    "import io           # |-#used for pulling links online and storing their data is a file\n",
    "import pandas as pd #-|\n",
    "import numpy as np#some csv files use numpy data types, unused for most part\n",
    "import matplotlib.pyplot as plt#used for testing in between writing this code\n",
    "#import seaborn as sns\n",
    "#sns \n",
    "#df = pd.read_csv(io.StringIO(file.text))\n",
    "#print(df.head())\n"
   ]
  },
  {
   "cell_type": "code",
   "execution_count": null,
   "metadata": {
    "collapsed": true
   },
   "outputs": [],
   "source": [
    "\n",
    "arenas_link = requests.get('https://opendata.arcgis.com/datasets/2d543c2f199c4f3bb52c5edc1c389c3f_3.csv')\n",
    "arenas = pd.read_csv(io.StringIO(arenas_link.text))\n",
    "\n",
    "beaches_link = requests.get('https://opendata.arcgis.com/datasets/223fbe172aa5490986ba0899e45939f8_5.csv')\n",
    "beaches = pd.read_csv(io.StringIO(beaches_link.text))\n",
    "\n",
    "campgrounds_link = requests.get('https://opendata.arcgis.com/datasets/90e0023d8f2c481e85037869bfa6cb50_9.csv')\n",
    "campgrounds = pd.read_csv(io.StringIO(campgrounds_link.text))\n",
    "\n",
    "city_waterfalls_link = requests.get('https://opendata.arcgis.com/datasets/51c6d946f91249828bc1c594ce1b27d1_16.csv')\n",
    "city_waterfalls = pd.read_csv(io.StringIO(city_waterfalls_link.text))\n",
    "\n",
    "educational_institutions_link = requests.get('https://opendata.arcgis.com/datasets/cccae6f029334927856da6e20a50561f_19.csv')\n",
    "educational_institutions = pd.read_csv(io.StringIO(educational_institutions_link.text))\n",
    "\n",
    "libraries_link = requests.get('https://opendata.arcgis.com/datasets/67a54ea25d944cf7b66750ba57da822c_1.csv')\n",
    "libraries = pd.read_csv(io.StringIO(libraries_link.text))\n",
    "\n",
    "museums_and_galleries_link = requests.get('https://opendata.arcgis.com/datasets/6728810fb847489985d4b735502205a0_2.csv')\n",
    "museums_and_galleries = pd.read_csv(io.StringIO(museums_and_galleries_link.text))\n",
    "\n",
    "park_amenities_link = requests.get('https://opendata.arcgis.com/datasets/332d57db20494adaaa8ab7cad3ea7726_4.csv')\n",
    "park_amenities = pd.read_csv(io.StringIO(park_amenities_link.text))\n",
    "\n",
    "place_of_worship_link = requests.get('https://opendata.arcgis.com/datasets/a4c3f339c6a440b888db7589431a3c57_7.csv')\n",
    "places_of_worship = pd.read_csv(io.StringIO(place_of_worship_link.text))\n",
    "\n",
    "public_art_and_monuments_link = requests.get('https://opendata.arcgis.com/datasets/a0bcdf73598c424d9e7ef72861dca71c_10.csv')\n",
    "public_art_and_monuments = pd.read_csv(io.StringIO(public_art_and_monuments_link.text))\n",
    "\n",
    "recreation_and_community_centres_link = requests.get('https://opendata.arcgis.com/datasets/272667665de646768db14e9fa1676405_11.csv')\n",
    "recreation_and_community_centres = pd.read_csv(io.StringIO(recreation_and_community_centres_link.text))\n",
    "\n",
    "sobi_hubs_link = requests.get('https://opendata.arcgis.com/datasets/b5fb1c2cbccc4513ad4cac3671905ccc_18.csv')\n",
    "sobi_hubs = pd.read_csv(io.StringIO(sobi_hubs_link.text))\n",
    "\n",
    "spray_pads_link = requests.get('https://opendata.arcgis.com/datasets/d99a1dbd4f3f47b6ac3f19b2761bdf0c_15.csv')\n",
    "spray_pads = pd.read_csv(io.StringIO(spray_pads_link.text))\n",
    "\n",
    "tourism_points_of_interest_link = requests.get('https://opendata.arcgis.com/datasets/e09cca59a8584cc28e7879bd6b0ce7f4_0.csv')\n",
    "tourism_points_of_interest = pd.read_csv(io.StringIO(tourism_points_of_interest_link.text))\n",
    "\n",
    "\n"
   ]
  },
  {
   "cell_type": "code",
   "execution_count": null,
   "metadata": {
    "collapsed": true
   },
   "outputs": [],
   "source": []
  },
  {
   "cell_type": "code",
   "execution_count": null,
   "metadata": {
    "collapsed": true
   },
   "outputs": [],
   "source": [
    "'''df1= pd.read_csv(\"Arenas.csv\")\n",
    "df2= pd.read_csv(\"Beaches.csv\")\n",
    "df3= pd.read_csv(\"Campgrounds.csv\")\n",
    "df4= pd.read_csv(\"City_Waterfalls.csv\")\n",
    "df5= pd.read_csv(\"Educational_Institutions.csv\")\n",
    "df6= pd.read_csv(\"Libraries.csv\")\n",
    "df7= pd.read_csv(\"Museums_and_Galleries.csv\")\n",
    "df8= pd.read_csv(\"Park_Amenities.csv\")\n",
    "df9= pd.read_csv(\"Places_of_Worship.csv\")\n",
    "df10= pd.read_csv(\"Public_Art_and_Monuments.csv\")\n",
    "df11= pd.read_csv(\"Recreation_and_Community_Centres.csv\")\n",
    "df12= pd.read_csv(\"SoBi_Hubs.csv\")\n",
    "df13= pd.read_csv(\"Spray_Pads.csv\")\n",
    "df14= pd.read_csv(\"Tourism_Points_of_Interest.csv\")'''"
   ]
  },
  {
   "cell_type": "code",
   "execution_count": null,
   "metadata": {
    "collapsed": true
   },
   "outputs": [],
   "source": [
    "for i in range(len(arenas)):\n",
    "    arenas['ADDRESS'][i] = ('Address: ' + arenas['ADDRESS'][i] + '\\nCommunity: ' + arenas['COMMUNITY'][i] + '\\nPhone: ' + arenas['PHONE'][i])\n",
    "\n",
    "arenas.rename(columns={'ADDRESS':'DESCRIPTION'}, inplace=True)\n",
    "\n",
    "arenas = arenas[['LATITUDE','LONGITUDE','NAME','DESCRIPTION']]"
   ]
  },
  {
   "cell_type": "code",
   "execution_count": null,
   "metadata": {
    "collapsed": true
   },
   "outputs": [],
   "source": [
    "\n",
    "\n",
    "beaches.rename(columns={'WATER_SOURCE':'DESCRIPTION'}, inplace=True)\n",
    "\n",
    "beaches = beaches[['LATITUDE','LONGITUDE','NAME','DESCRIPTION']]\n"
   ]
  },
  {
   "cell_type": "code",
   "execution_count": null,
   "metadata": {
    "collapsed": true
   },
   "outputs": [],
   "source": [
    "\n",
    "for i in range(len(campgrounds)):\n",
    "    campgrounds['LOCATION'][i] = ('Address: ' + campgrounds['LOCATION'][i] + '\\nURL: ' + campgrounds['URL'][i])\n",
    "\n",
    "campgrounds.rename(columns={'LOCATION':'DESCRIPTION'}, inplace=True)\n",
    "\n",
    "campgrounds = campgrounds[['LATITUDE','LONGITUDE','NAME','DESCRIPTION']]\n"
   ]
  },
  {
   "cell_type": "code",
   "execution_count": null,
   "metadata": {
    "collapsed": true
   },
   "outputs": [],
   "source": [
    "for i in range(len(city_waterfalls)):\n",
    "    city_waterfalls['CLUSTER_AREA'][i] = ('Area: ' + city_waterfalls['CLUSTER_AREA'][i] + '\\nAlternate Name: ' + str(city_waterfalls['ALTERNATE_NAME'][i]) + '\\nHeight: ' + str(city_waterfalls['HEIGHT_IN_M'][i]) + 'm' + '\\nWidth: ' + str(city_waterfalls['WIDTH_IN_M'][i]) + 'm')\n",
    "\n",
    "city_waterfalls.rename(columns={'CLUSTER_AREA':'DESCRIPTION'}, inplace=True)\n",
    "\n",
    "city_waterfalls = city_waterfalls[['LATITUDE','LONGITUDE','NAME','DESCRIPTION']]"
   ]
  },
  {
   "cell_type": "code",
   "execution_count": null,
   "metadata": {
    "collapsed": true
   },
   "outputs": [],
   "source": [
    "\n",
    "\n",
    "for i in range(len(educational_institutions)):\n",
    "    educational_institutions['ADDRESS'][i] = ('Address: ' + educational_institutions['ADDRESS'][i] + '\\nCommunity: ' + educational_institutions['COMMUNITY'][i] + '\\nCategory: ' + educational_institutions['CATEGORY'][i] + '\\nSchool Board: ' + str(educational_institutions['SCHOOL_BOARD'][i]))\n",
    "\n",
    "educational_institutions.rename(columns={'ADDRESS':'DESCRIPTION'}, inplace=True)\n",
    "\n",
    "educational_institutions = educational_institutions[['LATITUDE','LONGITUDE','NAME','DESCRIPTION']]"
   ]
  },
  {
   "cell_type": "code",
   "execution_count": null,
   "metadata": {
    "collapsed": true
   },
   "outputs": [],
   "source": [
    "\n",
    "for i in range(len(libraries)):\n",
    "    libraries['HOLDINGS'][i] = ('Holdings: ' + str(libraries['HOLDINGS'][i]) + '\\nCirculation: ' + str(libraries['CIRCULATION'][i]))\n",
    "\n",
    "libraries.rename(columns={'HOLDINGS':'DESCRIPTION'}, inplace=True)\n",
    "\n",
    "libraries = libraries[['LATITUDE','LONGITUDE','NAME','DESCRIPTION']]"
   ]
  },
  {
   "cell_type": "code",
   "execution_count": null,
   "metadata": {
    "collapsed": true
   },
   "outputs": [],
   "source": [
    "\n",
    "for i in range(len(museums_and_galleries)):\n",
    "    museums_and_galleries['OBJECTID'][i] = ('N/A')\n",
    "\n",
    "museums_and_galleries.rename(columns={'OBJECTID':'DESCRIPTION'}, inplace=True)\n",
    "\n",
    "museums_and_galleries = museums_and_galleries[['LATITUDE','LONGITUDE','NAME','DESCRIPTION']]"
   ]
  },
  {
   "cell_type": "code",
   "execution_count": null,
   "metadata": {
    "collapsed": true
   },
   "outputs": [],
   "source": [
    "\n",
    "for i in range(len(park_amenities)):\n",
    "    park_amenities['TYPE'][i] = (str(park_amenities['TYPE'][i]) + 'ball')\n",
    "    park_amenities['REC_AREA'][i] = ('Recreational Area: ' + str(park_amenities['REC_AREA'][i]) + 'Ownership: ' + str(park_amenities['OWNERSHIP'][i]))\n",
    "\n",
    "park_amenities.rename(columns={'TYPE':'NAME'}, inplace=True)\n",
    "park_amenities.rename(columns={'REC_AREA':'DESCRIPTION'}, inplace=True)\n",
    "\n",
    "park_amenities = park_amenities[['LATITUDE','LONGITUDE','NAME','DESCRIPTION']]"
   ]
  },
  {
   "cell_type": "code",
   "execution_count": null,
   "metadata": {
    "collapsed": true
   },
   "outputs": [],
   "source": [
    "\n",
    "for i in range(len(places_of_worship)):\n",
    "    places_of_worship['DENOMINATION'][i] = ('Denomination: ' + places_of_worship['DENOMINATION'][i] + '\\nAddress: ' + places_of_worship['ADDRESS'][i] + '\\nCommunity: ' + places_of_worship['COMMUNITY'][i])\n",
    "\n",
    "places_of_worship.rename(columns={'DENOMINATION':'DESCRIPTION'}, inplace=True)\n",
    "\n",
    "places_of_worship = places_of_worship[['LATITUDE','LONGITUDE','NAME','DESCRIPTION']]"
   ]
  },
  {
   "cell_type": "code",
   "execution_count": null,
   "metadata": {
    "collapsed": true
   },
   "outputs": [],
   "source": [
    "\n",
    "for i in range(len(public_art_and_monuments)):\n",
    "    public_art_and_monuments['DESCRIPTION'][i] = ('Address: ' + public_art_and_monuments['STREET'][i] + '\\nDescription: ' + public_art_and_monuments['DESCRIPTION'][i])\n",
    "\n",
    "public_art_and_monuments.rename(columns={'ARTWORK_TITLE':'NAME'}, inplace=True)\n",
    "\n",
    "public_art_and_monuments = public_art_and_monuments[['LATITUDE','LONGITUDE','NAME','DESCRIPTION']]"
   ]
  },
  {
   "cell_type": "code",
   "execution_count": null,
   "metadata": {
    "collapsed": true
   },
   "outputs": [],
   "source": [
    "\n",
    "for i in range(len(recreation_and_community_centres)):\n",
    "    recreation_and_community_centres['OBJECTID'][i] = ('N/A')\n",
    "\n",
    "recreation_and_community_centres.rename(columns={'OBJECTID':'DESCRIPTION'}, inplace=True)\n",
    "\n",
    "recreation_and_community_centres = recreation_and_community_centres[['LATITUDE','LONGITUDE','NAME','DESCRIPTION']]"
   ]
  },
  {
   "cell_type": "code",
   "execution_count": null,
   "metadata": {
    "collapsed": true
   },
   "outputs": [],
   "source": [
    "\n",
    "for i in range(len(sobi_hubs)):\n",
    "    sobi_hubs['DESCRIPTION'][i] = ('Address: ' + sobi_hubs['ADDRESS'][i] + '\\nDescription' + str(sobi_hubs['DESCRIPTION'][i]))\n",
    "\n",
    "sobi_hubs = sobi_hubs[['LATITUDE','LONGITUDE','NAME','DESCRIPTION']]"
   ]
  },
  {
   "cell_type": "code",
   "execution_count": null,
   "metadata": {
    "collapsed": true
   },
   "outputs": [],
   "source": [
    "\n",
    "for i in range(len(spray_pads)):\n",
    "    spray_pads['ADDRESS'][i] = ('Address: ' + spray_pads['ADDRESS'][i] + '\\nOwner: ' + spray_pads['OWNER'][i] + '\\nPhone: ' + spray_pads['PHONE'][i])\n",
    "\n",
    "spray_pads.rename(columns={'ADDRESS':'DESCRIPTION'}, inplace=True)\n",
    "\n",
    "spray_pads = spray_pads[['LATITUDE','LONGITUDE','NAME','DESCRIPTION']]"
   ]
  },
  {
   "cell_type": "code",
   "execution_count": null,
   "metadata": {
    "collapsed": true
   },
   "outputs": [],
   "source": [
    "\n",
    "for i in range(len(tourism_points_of_interest)):\n",
    "    tourism_points_of_interest['DESCRIPTION'][i] = ('Address: ' + str(tourism_points_of_interest['ADDRESS'][i]) + '\\nDescription: ' + str(tourism_points_of_interest['DESCRIPTION'][i]) + '\\nPhone: ' + str(tourism_points_of_interest['PHONE'][i]) + '\\nEmail: ' + str(tourism_points_of_interest['EMAIL'][i]) + '\\nWebsite: ' + str(tourism_points_of_interest['URL'][i]))\n",
    "\n",
    "tourism_points_of_interest.rename(columns={'TITLE':'NAME'}, inplace=True)\n",
    "\n",
    "tourism_points_of_interest = tourism_points_of_interest[['LATITUDE','LONGITUDE','NAME','DESCRIPTION']]"
   ]
  },
  {
   "cell_type": "code",
   "execution_count": 24,
   "metadata": {},
   "outputs": [
    {
     "name": "stdout",
     "output_type": "stream",
     "text": [
      "33\n",
      "45\n",
      "120\n",
      "353\n",
      "375\n",
      "386\n",
      "1099\n",
      "1455\n",
      "1506\n",
      "1574\n",
      "1706\n",
      "1762\n",
      "1989\n",
      "20\n"
     ]
    }
   ],
   "source": [
    "alldata = arenas\n",
    "alldata = alldata.append(beaches)\n",
    "\n",
    "alldata.to_csv(\"ALL_DATA.csv\")\n",
    "alldata = alldata.append(campgrounds)\n",
    "\n",
    "alldata = alldata.append(city_waterfalls)\n",
    "\n",
    "alldata = alldata.append(educational_institutions)\n",
    "\n",
    "alldata = alldata.append(libraries)\n",
    "\n",
    "alldata = alldata.append(museums_and_galleries)\n",
    "\n",
    "alldata = alldata.append(park_amenities)\n",
    "\n",
    "alldata = alldata.append(places_of_worship)\n",
    "\n",
    "alldata = alldata.append(public_art_and_monuments)\n",
    "\n",
    "alldata = alldata.append(recreation_and_community_centres)\n",
    "\n",
    "alldata = alldata.append(sobi_hubs)\n",
    "\n",
    "alldata = alldata.append(spray_pads)\n",
    "\n",
    "alldata = alldata.append(tourism_points_of_interest)\n",
    "\n",
    "alldata.to_csv(\"ALL_DATA.csv\")\n",
    "\n",
    "\n"
   ]
  },
  {
   "cell_type": "code",
   "execution_count": null,
   "metadata": {
    "collapsed": true
   },
   "outputs": [],
   "source": [
    "events = pd.read_csv(\"todays_events_reformatted.csv\")\n",
    "events.rename(columns={'latitude':'LATITUDE','longitude':'LONGITUDE','name':'NAME','description':'DESCRIPTION'}, inplace=True)\n",
    "events = events[['LATITUDE','LONGITUDE','NAME','DESCRIPTION']]"
   ]
  },
  {
   "cell_type": "code",
   "execution_count": null,
   "metadata": {
    "collapsed": true
   },
   "outputs": [],
   "source": [
    "alldata = alldata.append(events)"
   ]
  },
  {
   "cell_type": "code",
   "execution_count": null,
   "metadata": {
    "collapsed": true
   },
   "outputs": [],
   "source": [
    "usrlat = 43.269\n",
    "usrlong = -79.884\n",
    "\n",
    "inp = alldata[:1]\n",
    "results = pd.DataFrame(inp)\n",
    "\n",
    "hyp = 0\n",
    "#sum = 0\n",
    "for index, row in alldata.iterrows():\n",
    "    hyp = ((usrlat - row[\"LATITUDE\"]) ** 2 + (usrlong - row[\"LONGITUDE\"]) ** 2) ** 0.5\n",
    "    if (hyp <= 0.01):\n",
    "        results = results.append(row)\n",
    "        \n",
    "#for index, row in arenas.iterrows():\n",
    " #   print(type(row['LATITUDE']))\n",
    "results = results[1:]\n",
    "results.to_csv(\"RESULTS.csv\")\n",
    "print(\"Finished \")"
   ]
  }
 ],
 "metadata": {
  "kernelspec": {
   "display_name": "Python 3",
   "language": "python",
   "name": "python3"
  },
  "language_info": {
   "codemirror_mode": {
    "name": "ipython",
    "version": 3
   },
   "file_extension": ".py",
   "mimetype": "text/x-python",
   "name": "python",
   "nbconvert_exporter": "python",
   "pygments_lexer": "ipython3",
   "version": "3.6.1"
  }
 },
 "nbformat": 4,
 "nbformat_minor": 2
}
